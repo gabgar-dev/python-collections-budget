{
 "cells": [
  {
   "cell_type": "code",
   "execution_count": 2,
   "id": "93d779b7",
   "metadata": {},
   "outputs": [],
   "source": [
    "import Expense"
   ]
  },
  {
   "cell_type": "code",
   "execution_count": 12,
   "id": "9dbcf22c",
   "metadata": {},
   "outputs": [],
   "source": [
    "class BudgetList():\n",
    "    def __init__(self, budget):\n",
    "        self.budget = budget\n",
    "        self.sum_expenses = 0\n",
    "        self.expenses = []\n",
    "        self.sum_overages = 0\n",
    "        self.overages = []\n",
    "    \n",
    "    def __len__(self):\n",
    "        return (len(self.expenses) + len(self.overages))\n",
    "\n",
    "    # implement append so that it only appends to self if total < budget\n",
    "    def append(self, item):\n",
    "        # TODO Check if item is a number\n",
    "        if (self.sum_expenses+item < self.budget):\n",
    "            self.expenses.append(item)\n",
    "            self.sum_expenses += item\n",
    "        # Otherwise append to the overages list and add to the overage total\n",
    "        else:\n",
    "            self.overages.append(item)\n",
    "            self.sum_overages+=item"
   ]
  },
  {
   "cell_type": "code",
   "execution_count": 13,
   "id": "53c5827a",
   "metadata": {},
   "outputs": [],
   "source": [
    "def main():\n",
    "    # Using above class\n",
    "    # Set starting budget to 500\n",
    "    myBudgetList = BudgetList(1200)\n",
    "    # Add expenses, the last expense is 100 and that goes in overages\n",
    "    expenses = Expense.Expenses()\n",
    "    expenses.read_expenses('/home/ubuntu/projects/python-collections-budget/data/spending_data.csv')\n",
    "    for expense in expenses.list:\n",
    "        myBudgetList.append(expense.amount)\n",
    "\n",
    "    # Test len()\n",
    "    print('The count of all expenses: ' + str(len(myBudgetList)))"
   ]
  },
  {
   "cell_type": "code",
   "execution_count": 14,
   "id": "83eb6465",
   "metadata": {},
   "outputs": [
    {
     "name": "stdout",
     "output_type": "stream",
     "text": [
      "The count of all expenses: 37\n"
     ]
    }
   ],
   "source": [
    "if __name__ == \"__main__\":\n",
    "    main()\n"
   ]
  },
  {
   "cell_type": "code",
   "execution_count": 8,
   "id": "d3bd78ec",
   "metadata": {},
   "outputs": [],
   "source": []
  },
  {
   "cell_type": "code",
   "execution_count": 9,
   "id": "bf2f0b0e",
   "metadata": {},
   "outputs": [
    {
     "ename": "AttributeError",
     "evalue": "'BudgetList' object has no attribute 'append'",
     "output_type": "error",
     "traceback": [
      "\u001b[0;31m---------------------------------------------------------------------------\u001b[0m",
      "\u001b[0;31mAttributeError\u001b[0m                            Traceback (most recent call last)",
      "\u001b[0;32m/tmp/ipykernel_16901/3986237167.py\u001b[0m in \u001b[0;36m<module>\u001b[0;34m\u001b[0m\n\u001b[1;32m      1\u001b[0m \u001b[0;31m#Tell Python to run the main function\u001b[0m\u001b[0;34m\u001b[0m\u001b[0;34m\u001b[0m\u001b[0;34m\u001b[0m\u001b[0m\n\u001b[1;32m      2\u001b[0m \u001b[0;32mif\u001b[0m \u001b[0m__name__\u001b[0m  \u001b[0;34m==\u001b[0m\u001b[0;34m\"__main__\"\u001b[0m\u001b[0;34m:\u001b[0m\u001b[0;34m\u001b[0m\u001b[0;34m\u001b[0m\u001b[0m\n\u001b[0;32m----> 3\u001b[0;31m     \u001b[0mmain\u001b[0m\u001b[0;34m(\u001b[0m\u001b[0;34m)\u001b[0m\u001b[0;34m\u001b[0m\u001b[0;34m\u001b[0m\u001b[0m\n\u001b[0m",
      "\u001b[0;32m/tmp/ipykernel_16901/3583135978.py\u001b[0m in \u001b[0;36mmain\u001b[0;34m()\u001b[0m\n\u001b[1;32m      9\u001b[0m     \u001b[0;31m#Add the expenses to the Budget List\u001b[0m\u001b[0;34m\u001b[0m\u001b[0;34m\u001b[0m\u001b[0;34m\u001b[0m\u001b[0m\n\u001b[1;32m     10\u001b[0m     \u001b[0;32mfor\u001b[0m \u001b[0mexpense\u001b[0m \u001b[0;32min\u001b[0m \u001b[0mexpenses\u001b[0m\u001b[0;34m.\u001b[0m\u001b[0mlist\u001b[0m\u001b[0;34m:\u001b[0m\u001b[0;34m\u001b[0m\u001b[0;34m\u001b[0m\u001b[0m\n\u001b[0;32m---> 11\u001b[0;31m         \u001b[0mmyBudgetList\u001b[0m\u001b[0;34m.\u001b[0m\u001b[0mappend\u001b[0m\u001b[0;34m(\u001b[0m\u001b[0mexpense\u001b[0m\u001b[0;34m.\u001b[0m\u001b[0mamount\u001b[0m\u001b[0;34m)\u001b[0m\u001b[0;34m\u001b[0m\u001b[0;34m\u001b[0m\u001b[0m\n\u001b[0m\u001b[1;32m     12\u001b[0m \u001b[0;34m\u001b[0m\u001b[0m\n\u001b[1;32m     13\u001b[0m     \u001b[0;31m#print the length of myBudget list\u001b[0m\u001b[0;34m\u001b[0m\u001b[0;34m\u001b[0m\u001b[0;34m\u001b[0m\u001b[0m\n",
      "\u001b[0;31mAttributeError\u001b[0m: 'BudgetList' object has no attribute 'append'"
     ]
    }
   ],
   "source": []
  },
  {
   "cell_type": "code",
   "execution_count": null,
   "id": "137dbefe",
   "metadata": {},
   "outputs": [],
   "source": []
  }
 ],
 "metadata": {
  "kernelspec": {
   "display_name": "Python 3 (ipykernel)",
   "language": "python",
   "name": "python3"
  },
  "language_info": {
   "codemirror_mode": {
    "name": "ipython",
    "version": 3
   },
   "file_extension": ".py",
   "mimetype": "text/x-python",
   "name": "python",
   "nbconvert_exporter": "python",
   "pygments_lexer": "ipython3",
   "version": "3.8.10"
  }
 },
 "nbformat": 4,
 "nbformat_minor": 5
}
