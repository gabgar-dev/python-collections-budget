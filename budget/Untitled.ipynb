{
 "cells": [
  {
   "cell_type": "code",
   "execution_count": 1,
   "id": "93d779b7",
   "metadata": {},
   "outputs": [],
   "source": [
    "import Expense\n",
    "import matplotlib.pyplot as plt"
   ]
  },
  {
   "cell_type": "code",
   "execution_count": 2,
   "id": "9dbcf22c",
   "metadata": {},
   "outputs": [],
   "source": [
    "# Class\n",
    "class BudgetList():\n",
    "    def __init__(self, budget):\n",
    "        self.budget = budget\n",
    "        self.sum_expenses = 0\n",
    "        self.expenses = []\n",
    "        self.sum_overages = 0\n",
    "        self.overages = []\n",
    "    \n",
    "    def __len__(self):\n",
    "        return (len(self.expenses) + len(self.overages))\n",
    "\n",
    "    # Append\n",
    "    def append(self, item):\n",
    "        \n",
    "        if (self.sum_expenses+item < self.budget):\n",
    "            self.expenses.append(item)\n",
    "            self.sum_expenses += item\n",
    "       \n",
    "        else:\n",
    "            self.overages.append(item)\n",
    "            self.sum_overages+=item\n",
    "\n",
    "\n",
    "    #Create an Interactor method\n",
    "    def __iter__(self):\n",
    "        self.iter_e  = iter(self.expenses)\n",
    "        self.iter_o = iter(self.overages)\n",
    "        return self\n",
    "\n",
    "    #Method Next\n",
    "    def __next__(self):\n",
    "        try:\n",
    "            return self.iter_e.__next__()\n",
    "        except StopIteration as stop:\n",
    "            return self.iter_o.__next__()"
   ]
  },
  {
   "cell_type": "code",
   "execution_count": 6,
   "id": "53c5827a",
   "metadata": {},
   "outputs": [],
   "source": [
    "#Main function    \n",
    "def main():\n",
    "     \n",
    "    myBudgetList = BudgetList(1200)\n",
    "    \n",
    "    expenses = Expense.Expenses()\n",
    "    expenses.read_expenses('/home/ubuntu/projects/python-collections-budget/data/spending_data.csv')\n",
    "    for expense in expenses.list:\n",
    "        myBudgetList.append(expense.amount)\n",
    "\n",
    "    # Test len()\n",
    "    print('The count of all expenses: ' + str(len(myBudgetList)))\n",
    "    \n",
    "    #Test the Iterable\n",
    "    for entry in myBudgetList:\n",
    "        print (entry)\n",
    "    \n",
    "    #Create Figure and Axes\n",
    "    fig, ax = plt.subplots()\n",
    "    labels = ['Expenses', 'Overages', 'Budget']\n",
    "    values = [myBudgetList.sum_expenses, myBudgetList.sum_overages, myBudgetList.budget]\n",
    "    ax.bar(labels, values, color=['green','red','blue'])\n",
    "    ax.set_title('Your total expenses v.s total budget')\n",
    "    plt.show()"
   ]
  },
  {
   "cell_type": "code",
   "execution_count": 7,
   "id": "83eb6465",
   "metadata": {},
   "outputs": [
    {
     "name": "stdout",
     "output_type": "stream",
     "text": [
      "The count of all expenses: 37\n",
      "115.75\n",
      "28.6\n",
      "27.97\n",
      "621.17\n",
      "300.0\n",
      "6.87\n",
      "14.63\n",
      "6.18\n",
      "15.96\n",
      "25.17\n",
      "16.49\n",
      "13.77\n",
      "2.08\n",
      "2.52\n",
      "50.35\n",
      "488.96\n",
      "260.37\n",
      "27.18\n",
      "300.0\n",
      "34.22\n",
      "25.75\n",
      "44.81\n",
      "102.85\n",
      "10.26\n",
      "9.71\n",
      "11.73\n",
      "1903.0\n",
      "15.12\n",
      "249.68\n",
      "16.07\n",
      "68.52\n",
      "18.12\n",
      "24.42\n",
      "107.76\n",
      "60.21\n",
      "25.41\n",
      "205.44\n"
     ]
    },
    {
     "data": {
      "image/png": "[encoded data removed]",
      "text/plain": [
       "<Figure size 432x288 with 1 Axes>"
      ]
     },
     "metadata": {
      "needs_background": "light"
     },
     "output_type": "display_data"
    }
   ],
   "source": [
    "if __name__ == \"__main__\":\n",
    "    main()"
   ]
  },
  {
   "cell_type": "code",
   "execution_count": 8,
   "id": "d3bd78ec",
   "metadata": {},
   "outputs": [],
   "source": []
  },
  {
   "cell_type": "code",
   "execution_count": 9,
   "id": "bf2f0b0e",
   "metadata": {},
   "outputs": [
    {
     "ename": "AttributeError",
     "evalue": "'BudgetList' object has no attribute 'append'",
     "output_type": "error",
     "traceback": [
      "\u001b[0;31m---------------------------------------------------------------------------\u001b[0m",
      "\u001b[0;31mAttributeError\u001b[0m                            Traceback (most recent call last)",
      "\u001b[0;32m/tmp/ipykernel_16901/3986237167.py\u001b[0m in \u001b[0;36m<module>\u001b[0;34m\u001b[0m\n\u001b[1;32m      1\u001b[0m \u001b[0;31m#Tell Python to run the main function\u001b[0m\u001b[0;34m\u001b[0m\u001b[0;34m\u001b[0m\u001b[0;34m\u001b[0m\u001b[0m\n\u001b[1;32m      2\u001b[0m \u001b[0;32mif\u001b[0m \u001b[0m__name__\u001b[0m  \u001b[0;34m==\u001b[0m\u001b[0;34m\"__main__\"\u001b[0m\u001b[0;34m:\u001b[0m\u001b[0;34m\u001b[0m\u001b[0;34m\u001b[0m\u001b[0m\n\u001b[0;32m----> 3\u001b[0;31m     \u001b[0mmain\u001b[0m\u001b[0;34m(\u001b[0m\u001b[0;34m)\u001b[0m\u001b[0;34m\u001b[0m\u001b[0;34m\u001b[0m\u001b[0m\n\u001b[0m",
      "\u001b[0;32m/tmp/ipykernel_16901/3583135978.py\u001b[0m in \u001b[0;36mmain\u001b[0;34m()\u001b[0m\n\u001b[1;32m      9\u001b[0m     \u001b[0;31m#Add the expenses to the Budget List\u001b[0m\u001b[0;34m\u001b[0m\u001b[0;34m\u001b[0m\u001b[0;34m\u001b[0m\u001b[0m\n\u001b[1;32m     10\u001b[0m     \u001b[0;32mfor\u001b[0m \u001b[0mexpense\u001b[0m \u001b[0;32min\u001b[0m \u001b[0mexpenses\u001b[0m\u001b[0;34m.\u001b[0m\u001b[0mlist\u001b[0m\u001b[0;34m:\u001b[0m\u001b[0;34m\u001b[0m\u001b[0;34m\u001b[0m\u001b[0m\n\u001b[0;32m---> 11\u001b[0;31m         \u001b[0mmyBudgetList\u001b[0m\u001b[0;34m.\u001b[0m\u001b[0mappend\u001b[0m\u001b[0;34m(\u001b[0m\u001b[0mexpense\u001b[0m\u001b[0;34m.\u001b[0m\u001b[0mamount\u001b[0m\u001b[0;34m)\u001b[0m\u001b[0;34m\u001b[0m\u001b[0;34m\u001b[0m\u001b[0m\n\u001b[0m\u001b[1;32m     12\u001b[0m \u001b[0;34m\u001b[0m\u001b[0m\n\u001b[1;32m     13\u001b[0m     \u001b[0;31m#print the length of myBudget list\u001b[0m\u001b[0;34m\u001b[0m\u001b[0;34m\u001b[0m\u001b[0;34m\u001b[0m\u001b[0m\n",
      "\u001b[0;31mAttributeError\u001b[0m: 'BudgetList' object has no attribute 'append'"
     ]
    }
   ],
   "source": []
  },
  {
   "cell_type": "code",
   "execution_count": null,
   "id": "137dbefe",
   "metadata": {},
   "outputs": [],
   "source": []
  }
 ],
 "metadata": {
  "kernelspec": {
   "display_name": "Python 3 (ipykernel)",
   "language": "python",
   "name": "python3"
  },
  "language_info": {
   "codemirror_mode": {
    "name": "ipython",
    "version": 3
   },
   "file_extension": ".py",
   "mimetype": "text/x-python",
   "name": "python",
   "nbconvert_exporter": "python",
   "pygments_lexer": "ipython3",
   "version": "3.8.10"
  }
 },
 "nbformat": 4,
 "nbformat_minor": 5
}
